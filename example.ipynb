{
 "cells": [
  {
   "cell_type": "code",
   "execution_count": 1,
   "metadata": {},
   "outputs": [],
   "source": [
    "# this needed to run asyncio in nb.\n",
    "import nest_asyncio\n",
    "nest_asyncio.apply()\n",
    "\n",
    "from il_supermarket_scarper import MainScrapperRunner"
   ]
  },
  {
   "cell_type": "code",
   "execution_count": 2,
   "metadata": {},
   "outputs": [
    {
     "data": {
      "text/plain": [
       "['dump/Dor Alon',\n",
       " 'dump/Hazi Hinam',\n",
       " 'dump/Keshet Taamim',\n",
       " 'dump/Osher Ad',\n",
       " 'dump/Rami Levy',\n",
       " 'dump/cofix',\n",
       " 'dump/Shufersal',\n",
       " 'dump/Stop Market',\n",
       " 'dump/Super Dosh',\n",
       " 'dump/Tiv Taam',\n",
       " 'dump/Yohananof',\n",
       " 'dump/salachdabach',\n",
       " 'dump/Polizer',\n",
       " 'dump/Yellow',\n",
       " 'dump/Victory',\n",
       " 'dump/mahsani a shuk',\n",
       " 'dump/bareket',\n",
       " 'dump/Shuk Ahir',\n",
       " 'dump/ShefaBarcartAshem',\n",
       " 'dump/SuperYuda',\n",
       " 'dump/ZolVeBegadol',\n",
       " 'dump/Maayan2000',\n",
       " 'dump/King Store',\n",
       " 'dump/Super-Pharm',\n",
       " 'dump/mega',\n",
       " 'dump/mega-market',\n",
       " 'dump/Netiv Hasef',\n",
       " 'dump/GoodPharm']"
      ]
     },
     "execution_count": 2,
     "metadata": {},
     "output_type": "execute_result"
    }
   ],
   "source": [
    "scraper = MainScrapperRunner(dump_folder_name=\"dump\")\n",
    "scraper.run(limit=1)"
   ]
  },
  {
   "cell_type": "code",
   "execution_count": 3,
   "metadata": {},
   "outputs": [
    {
     "name": "stdout",
     "output_type": "stream",
     "text": [
      "dump/Super-Pharm/Promo7290172900007-269-202209201200.xml\n",
      "dump/Rami Levy/Price7290058140886-001-202209200800.xml\n",
      "dump/Polizer/Price7291059100008-001-202209200700.xml\n",
      "dump/ShefaBarcartAshem/Price7290058134977-041-202209202202.xml\n",
      "dump/Tiv Taam/Price7290873255550-002-202209200911.xml\n",
      "dump/Shufersal/PriceFull7290027600007-128-202209200300.xml\n",
      "dump/ZolVeBegadol/Price7290058173198-040-202209202207.xml\n",
      "dump/Super Dosh/Price7290876100000-001-202209200700.xml\n",
      "dump/Osher Ad/Price7290103152017-001-202209201000.xml\n",
      "dump/GoodPharm/Price7290058197699-952-202209202200.xml\n",
      "dump/King Store/Promo7290058108879-337-202209202205.xml\n",
      "dump/cofix/Price7291056200008-299-202209200800.xml\n",
      "dump/Shuk Ahir/Price7290058148776-314-202209202200.xml\n",
      "dump/Stop Market/Price7290639000004-001-202209200600.xml\n",
      "dump/bareket/Promo7290875100001-063-202209202154-001.xml\n",
      "dump/Yohananof/Price7290803800003-001-202209201000.xml\n",
      "dump/salachdabach/Price7290526500006-004-202209200614.xml\n",
      "dump/SuperYuda/Price7290058198450-040-202209202200.xml\n",
      "dump/Netiv Hasef/Price7290058160839-212-202209201533.xml\n",
      "dump/mega/Promo7290055700007-9090-202209202200.xml\n",
      "dump/Maayan2000/Price7290058159628-060-202209202205.xml\n",
      "dump/mega-market/Promo7290055700014-2150-202209202200.xml\n",
      "dump/mahsani a shuk/Promo7290633800006-263-202209202233-000.xml\n",
      "dump/Yellow/Price7290644700005-100-202209200600.xml\n",
      "dump/Dor Alon/Price7290492000005-450-202209200600.xml\n",
      "dump/Victory/Promo7290696200003-089-202209202221-001.xml\n",
      "dump/Hazi Hinam/Price7290700100008-001-202209200700.xml\n",
      "dump/Keshet Taamim/Price7290785400000-002-202209200700.xml\n"
     ]
    }
   ],
   "source": [
    "import os\n",
    "for supermarket_folder in os.listdir(\"dump\"):\n",
    "    files_in_folder = os.listdir(os.path.join(\"dump\",supermarket_folder))\n",
    "    assert len(files_in_folder) == 1, \"asked to download only one file\"\n",
    "    print(os.path.join(\"dump\",supermarket_folder,files_in_folder[0]))\n"
   ]
  },
  {
   "cell_type": "code",
   "execution_count": 4,
   "metadata": {},
   "outputs": [],
   "source": [
    "# let's clean the dump folder\n",
    "! rm -rf dump"
   ]
  },
  {
   "cell_type": "code",
   "execution_count": 5,
   "metadata": {},
   "outputs": [
    {
     "data": {
      "text/plain": [
       "['dump/Dor Alon',\n",
       " 'dump/Hazi Hinam',\n",
       " 'dump/Keshet Taamim',\n",
       " 'dump/Osher Ad',\n",
       " 'dump/Rami Levy',\n",
       " 'dump/cofix',\n",
       " 'dump/Shufersal',\n",
       " 'dump/Stop Market',\n",
       " 'dump/Super Dosh',\n",
       " 'dump/Tiv Taam',\n",
       " 'dump/Yohananof',\n",
       " 'dump/salachdabach',\n",
       " 'dump/Polizer',\n",
       " 'dump/Yellow',\n",
       " 'dump/Victory',\n",
       " 'dump/mahsani a shuk',\n",
       " 'dump/bareket',\n",
       " 'dump/Shuk Ahir',\n",
       " 'dump/ShefaBarcartAshem',\n",
       " 'dump/SuperYuda',\n",
       " 'dump/ZolVeBegadol',\n",
       " 'dump/Maayan2000',\n",
       " 'dump/King Store',\n",
       " 'dump/Super-Pharm',\n",
       " 'dump/mega',\n",
       " 'dump/mega-market',\n",
       " 'dump/Netiv Hasef',\n",
       " 'dump/GoodPharm']"
      ]
     },
     "execution_count": 5,
     "metadata": {},
     "output_type": "execute_result"
    }
   ],
   "source": [
    "from il_supermarket_scarper.utils.file_types import FileTypesFilters\n",
    "# let's download only the promotion inforamtion \n",
    "\n",
    "scraper = MainScrapperRunner(dump_folder_name=\"dump\")\n",
    "scraper.run(limit=1,files_types=FileTypesFilters.only_promo())"
   ]
  },
  {
   "cell_type": "code",
   "execution_count": 6,
   "metadata": {},
   "outputs": [
    {
     "name": "stdout",
     "output_type": "stream",
     "text": [
      "dump/Super-Pharm/Promo7290172900007-045-202209181400.xml\n",
      "dump/Rami Levy/Promo7290058140886-001-202209200600.xml\n",
      "dump/Polizer/Promo7291059100008-001-202209201000.xml\n",
      "dump/ShefaBarcartAshem/Promo7290058134977-041-202209201703.xml\n",
      "dump/Tiv Taam/Promo7290873255550-002-202209201111.xml\n",
      "dump/Shufersal/PromoFull7290027600007-046-202208310300.xml\n",
      "dump/ZolVeBegadol/Promo7290058173198-037-202209201314.xml\n",
      "dump/Super Dosh/Promo7290876100000-016-202209201700.xml\n",
      "dump/Osher Ad/Promo7290103152017-001-202209201100.xml\n",
      "dump/GoodPharm/Promo7290058197699-903-202209201700.xml\n",
      "dump/King Store/Promo7290058108879-337-202209202205.xml\n",
      "dump/cofix/Promo7291056200008-299-202209200600.xml\n",
      "dump/Shuk Ahir/Promo7290058148776-312-202209202102.xml\n",
      "dump/Stop Market/Promo7290639000004-001-202209200601.xml\n",
      "dump/bareket/Promo7290875100001-063-202209202154-001.xml\n",
      "dump/Yohananof/Promo7290803800003-001-202209200800.xml\n",
      "dump/salachdabach/Promo7290526500006-004-202209200800.xml\n",
      "dump/SuperYuda/Promo7290058198450-040-202209201900.xml\n",
      "dump/Netiv Hasef/Promo7290058160839-001-202209200835.xml\n",
      "dump/mega/Promo7290055700007-9090-202209202200.xml\n",
      "dump/Maayan2000/Promo7290058159628-050-202209201636.xml\n",
      "dump/mega-market/Promo7290055700014-2150-202209202200.xml\n",
      "dump/mahsani a shuk/Promo7290633800006-263-202209202233-000.xml\n",
      "dump/Yellow/Promo7290644700005-100-202209200600.xml\n",
      "dump/Dor Alon/Promo7290492000005-450-202209200600.xml\n",
      "dump/Victory/Promo7290696200003-089-202209202221-001.xml\n",
      "dump/Hazi Hinam/Promo7290700100008-001-202209201000.xml\n",
      "dump/Keshet Taamim/Promo7290785400000-002-202209201500.xml\n"
     ]
    }
   ],
   "source": [
    "import os\n",
    "for supermarket_folder in os.listdir(\"dump\"):\n",
    "    files_in_folder = os.listdir(os.path.join(\"dump\",supermarket_folder))\n",
    "    assert len(files_in_folder) == 1, \"asked to download only one file\"\n",
    "    print(os.path.join(\"dump\",supermarket_folder,files_in_folder[0]))"
   ]
  },
  {
   "cell_type": "code",
   "execution_count": null,
   "metadata": {},
   "outputs": [],
   "source": []
  }
 ],
 "metadata": {
  "kernelspec": {
   "display_name": "Python 3.8.2 ('env': venv)",
   "language": "python",
   "name": "python3"
  },
  "language_info": {
   "codemirror_mode": {
    "name": "ipython",
    "version": 3
   },
   "file_extension": ".py",
   "mimetype": "text/x-python",
   "name": "python",
   "nbconvert_exporter": "python",
   "pygments_lexer": "ipython3",
   "version": "3.8.2"
  },
  "orig_nbformat": 4,
  "vscode": {
   "interpreter": {
    "hash": "4a4a04ec409da8fd33886bef56cf96b872118f9e0963ea35d47c5841c948e8c3"
   }
  }
 },
 "nbformat": 4,
 "nbformat_minor": 2
}
